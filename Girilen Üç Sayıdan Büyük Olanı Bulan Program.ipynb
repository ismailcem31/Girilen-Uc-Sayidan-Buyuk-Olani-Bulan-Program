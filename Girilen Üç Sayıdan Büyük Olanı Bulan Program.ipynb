{
 "cells": [
  {
   "cell_type": "code",
   "execution_count": null,
   "id": "920f4db3",
   "metadata": {},
   "outputs": [],
   "source": [
    "# Sayıları kullanıcıdan al\n",
    "sayi1 = float(input(\"Birinci sayıyı giriniz: \"))\n",
    "sayi2 = float(input(\"İkinci sayıyı giriniz: \"))\n",
    "sayi3 = float(input(\"Üçüncü sayıyı giriniz: \"))\n",
    " \n",
    "# En büyük sayıyı bul\n",
    "if (sayi1 >= sayi2) and (sayi1 >= sayi3):\n",
    "   enBuyuk = sayi1\n",
    "elif (sayi2 >= sayi1) and (sayi2 >= sayi3):\n",
    "   enBuyuk = sayi2\n",
    "else:\n",
    "   enBuyuk = sayi3\n",
    " \n",
    "print(\"En büyük sayı: \", enBuyuk)"
   ]
  }
 ],
 "metadata": {
  "kernelspec": {
   "display_name": "Python 3 (ipykernel)",
   "language": "python",
   "name": "python3"
  },
  "language_info": {
   "codemirror_mode": {
    "name": "ipython",
    "version": 3
   },
   "file_extension": ".py",
   "mimetype": "text/x-python",
   "name": "python",
   "nbconvert_exporter": "python",
   "pygments_lexer": "ipython3",
   "version": "3.11.3"
  }
 },
 "nbformat": 4,
 "nbformat_minor": 5
}
